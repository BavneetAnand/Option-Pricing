{
 "cells": [
  {
   "cell_type": "code",
   "execution_count": 6,
   "metadata": {},
   "outputs": [
    {
     "name": "stdout",
     "output_type": "stream",
     "text": [
      "Tree value: 13.051177442418886\n",
      "Tree value: 13.054162112060741\n",
      "Tree value: 13.055654727976728\n",
      "Tree value: 13.056401106054865\n",
      "Tree value: 13.056774312619659\n"
     ]
    }
   ],
   "source": [
    "import numpy as np\n",
    "\n",
    "#EUROPEAN CALL CASE\n",
    "S0 = 100 # S0 - current stock price\n",
    "K = 100; # K - strike\n",
    "T = 0.75; # T - expiry time\n",
    "r = .03; # r - interest rate\n",
    "sigma = .35; # sigma - volatility\n",
    "opttype = 0; # opttype - 0 for a call, otherwise a put\n",
    "Nsteps = [500,1000,2000,4000,8000] # Nsteps - number of timesteps\n",
    "\n",
    "def European(S0, K, T, r, sigma, opttype):\n",
    "    for i in Nsteps:\n",
    "        delt = T/i;\n",
    "        # tree parameters\n",
    "        u = np.exp(sigma * np.sqrt(delt) );\n",
    "        d = 1./u;\n",
    "        a = np.exp( r*delt );\n",
    "        p = (a - d)/(u - d);\n",
    "        # payoff at t=T\n",
    "        W = S0 * d**(np.arange(i,-1,-1)) * u**(np.arange(i+1))\n",
    "        # W is column vector of length Nsteps+1\n",
    "        if opttype == 0:\n",
    "            W = np.maximum( W - K, 0); # CALL OPTION\n",
    "        else:\n",
    "            W = np.maximum( K - W, 0); # PUT OPTION\n",
    "            # backward recursion\n",
    "        for i in np.arange(i,0,-1):\n",
    "            W = np.exp(-r*delt)*( p*W[1:i+1] + (1-p)*W[0:i] )\n",
    "        print(\"Tree value: \" + str(W[0]))\n",
    "\n",
    "\n",
    "European(100,100,0.75,0.03,0.35,0) # call"
   ]
  },
  {
   "cell_type": "code",
   "execution_count": 7,
   "metadata": {},
   "outputs": [
    {
     "name": "stdout",
     "output_type": "stream",
     "text": [
      "Tree value: 10.82630116174909\n",
      "Tree value: 10.829285831395241\n",
      "Tree value: 10.830778447328267\n",
      "Tree value: 10.831524825427628\n",
      "Tree value: 10.831898031968544\n"
     ]
    }
   ],
   "source": [
    "import numpy as np\n",
    "\n",
    "#EUROPEAN PUT CASE\n",
    "S0 = 100 # S0 - current stock price\n",
    "K = 100; # K - strike\n",
    "T = 0.75; # T - expiry time\n",
    "r = .03; # r - interest rate\n",
    "sigma = .35; # sigma - volatility\n",
    "opttype = 1; # opttype - 0 for a call, otherwise a put\n",
    "Nsteps = [500,1000,2000,4000,8000] # Nsteps - number of timesteps\n",
    "\n",
    "def European_put(S0, K, T, r, sigma, opttype):\n",
    "    for i in Nsteps:\n",
    "        delt = T/i;\n",
    "        # tree parameters\n",
    "        u = np.exp(sigma * np.sqrt(delt) );\n",
    "        d = 1./u;\n",
    "        a = np.exp( r*delt );\n",
    "        p = (a - d)/(u - d);\n",
    "        # payoff at t=T\n",
    "        W = S0 * d**(np.arange(i,-1,-1)) * u**(np.arange(i+1))\n",
    "        # W is column vector of length Nsteps+1\n",
    "        if opttype == 0:\n",
    "            W = np.maximum( W - K, 0); # CALL OPTION\n",
    "        else:\n",
    "            W = np.maximum( K - W, 0); # PUT OPTION\n",
    "            # backward recursion\n",
    "        for i in np.arange(i,0,-1):\n",
    "            W = np.exp(-r*delt)*( p*W[1:i+1] + (1-p)*W[0:i] )\n",
    "        print(\"Tree value: \" + str(W[0]))\n",
    "\n",
    "\n",
    "European_put(100,100,0.75,0.03,0.35,1) # put"
   ]
  },
  {
   "cell_type": "code",
   "execution_count": 8,
   "metadata": {},
   "outputs": [
    {
     "name": "stdout",
     "output_type": "stream",
     "text": [
      "Tree value: 13.051177442418886\n",
      "Tree value: 13.054162112060741\n",
      "Tree value: 13.055654727976728\n",
      "Tree value: 13.056401106054865\n",
      "Tree value: 13.056774312619659\n"
     ]
    }
   ],
   "source": [
    "import numpy as np\n",
    "\n",
    "#American CALL CASE\n",
    "S0 = 100 # S0 - current stock price\n",
    "K = 100; # K - strike\n",
    "T = 0.75; # T - expiry time\n",
    "r = .03; # r - interest rate\n",
    "sigma = .35; # sigma - volatility\n",
    "opttype = 0; # opttype - 0 for a call, otherwise a put\n",
    "Nsteps = [500,1000,2000,4000,8000] # Nsteps - number of timesteps\n",
    "\n",
    "def American(S0, K, T, r, sigma, opttype):\n",
    "    for i in Nsteps:\n",
    "        delt = T/i;\n",
    "        # tree parameters\n",
    "        u = np.exp(sigma * np.sqrt(delt) );\n",
    "        d = 1./u;\n",
    "        a = np.exp( r*delt );\n",
    "        p = (a - d)/(u - d);\n",
    "        # payoff at t=T\n",
    "        S = S0 * d**(np.arange(i,-1,-1)) * u**(np.arange(i+1))\n",
    "        W = np.maximum(S-K,0)\n",
    "            # backward recursion\n",
    "        for i in np.arange(i,0,-1):\n",
    "            W = np.exp(-r*delt)*(p*W[1:i+1] + (1-p)*W[0:i])\n",
    "            S = S[0:i] * u\n",
    "            L = np.maximum(S - K, 0)\n",
    "            W = np.maximum(L,W)\n",
    "        print(\"Tree value: \" + str(W[0]))\n",
    "\n",
    "\n",
    "American(100,100,0.75,0.03,0.35,0) # call"
   ]
  },
  {
   "cell_type": "code",
   "execution_count": null,
   "metadata": {},
   "outputs": [],
   "source": []
  },
  {
   "cell_type": "code",
   "execution_count": null,
   "metadata": {},
   "outputs": [],
   "source": []
  }
 ],
 "metadata": {
  "kernelspec": {
   "display_name": "Python 3",
   "language": "python",
   "name": "python3"
  },
  "language_info": {
   "codemirror_mode": {
    "name": "ipython",
    "version": 3
   },
   "file_extension": ".py",
   "mimetype": "text/x-python",
   "name": "python",
   "nbconvert_exporter": "python",
   "pygments_lexer": "ipython3",
   "version": "3.8.3"
  }
 },
 "nbformat": 4,
 "nbformat_minor": 4
}
